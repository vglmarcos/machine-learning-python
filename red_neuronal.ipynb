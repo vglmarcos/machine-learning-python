{
 "cells": [
  {
   "cell_type": "code",
   "execution_count": 55,
   "metadata": {},
   "outputs": [],
   "source": [
    "import numpy as np\n",
    "import matplotlib.pyplot as plt"
   ]
  },
  {
   "cell_type": "code",
   "execution_count": 56,
   "metadata": {},
   "outputs": [],
   "source": [
    "def sigmoid(n):\n",
    "    return 1 / (1 + np.exp(-n))"
   ]
  },
  {
   "cell_type": "code",
   "execution_count": 57,
   "metadata": {},
   "outputs": [],
   "source": [
    "def d_sigmoid(n):\n",
    "    return n * (1 - n)"
   ]
  },
  {
   "cell_type": "code",
   "execution_count": 58,
   "metadata": {},
   "outputs": [],
   "source": [
    "def linear(n):\n",
    "    return n"
   ]
  },
  {
   "cell_type": "code",
   "execution_count": 59,
   "metadata": {},
   "outputs": [],
   "source": [
    "def d_linear(n):\n",
    "    return 1"
   ]
  },
  {
   "cell_type": "code",
   "execution_count": 60,
   "metadata": {},
   "outputs": [],
   "source": [
    "class Layer:\n",
    "    def __init__(self, n, act_func, d_act_func, w, b):\n",
    "        self.n = n\n",
    "        self.act_func = act_func\n",
    "        self.d_act_func = d_act_func\n",
    "        self.w = w\n",
    "        self.b = b\n",
    "        self.a = None\n",
    "        self.s = None\n",
    " "
   ]
  },
  {
   "cell_type": "code",
   "execution_count": 61,
   "metadata": {},
   "outputs": [],
   "source": [
    "class NeuralNetwork:\n",
    "    def __init__(self, layers, l_rate):\n",
    "        self.layers = layers\n",
    "        self.l_rate = l_rate\n",
    "        self.predicts = []\n",
    "\n",
    "    def forwardpass(self, p):\n",
    "        pa = p\n",
    "        for layer in self.layers:\n",
    "            n = layer.w * pa + layer.b\n",
    "            a = layer.act_func(n)\n",
    "            layer.a = a\n",
    "            pa = a\n",
    "        return pa\n",
    "\n",
    "\n",
    "    def backpropagation(self, e, X):\n",
    "        for m in range(len(self.layers) - 1, -1, -1):\n",
    "            if m == len(self.layers) - 1:\n",
    "                self.layers[m].s = -2 * self.layers[m].d_act_func(self.layers[m].a) * e\n",
    "            else:\n",
    "                self.layers[m].s = self.layers[m].d_act_func(self.layers[m].a) * self.layers[m + 1].w.T * self.layers[m + 1].s #el error podria estar aqui por no usar matriz jacobiana\n",
    "\n",
    "        for m in range(0, len(self.layers)):\n",
    "            if(m == 0):\n",
    "                self.layers[m].w = self.layers[m].w - (self.l_rate * self.layers[m].s * X.T)\n",
    "            else:\n",
    "                self.layers[m].w = self.layers[m].w - (self.l_rate * self.layers[m].s * self.layers[m - 1].a.T)\n",
    "\n",
    "            self.layers[m].b = self.layers[m].b - (self.l_rate * self.layers[m].s)\n",
    "\n",
    "            # print(f\"w: {self.layers[m].w}\")\n",
    "            # print(f\"b: {self.layers[m].b}\")\n",
    "        \n",
    "    def fit(self, X, y, error = False):\n",
    "        for (p, t) in zip(X, y): #se recorren las entradas y salidas deseadas, donde p es la entrada y t el target\n",
    "            a = self.forwardpass(np.expand_dims(p, axis = 0))\n",
    "            e = t - a\n",
    "            self.backpropagation(e, X)\n",
    "            if error:\n",
    "                print(e)\n",
    "\n",
    "    def predict(self, X):\n",
    "        self.predicts = []\n",
    "        for x in X:\n",
    "            self.predicts.append(self.forwardpass(x))\n",
    "        return self.predicts"
   ]
  },
  {
   "cell_type": "code",
   "execution_count": 62,
   "metadata": {},
   "outputs": [],
   "source": [
    "def g(p):\n",
    "    return 1 + np.sin((np.pi / 4) * p)"
   ]
  },
  {
   "cell_type": "code",
   "execution_count": 63,
   "metadata": {},
   "outputs": [
    {
     "name": "stdout",
     "output_type": "stream",
     "text": [
      "(2, 1)\n"
     ]
    },
    {
     "ename": "ValueError",
     "evalue": "shapes (2,1) and (2,1) not aligned: 1 (dim 1) != 2 (dim 0)",
     "output_type": "error",
     "traceback": [
      "\u001b[1;31m---------------------------------------------------------------------------\u001b[0m",
      "\u001b[1;31mValueError\u001b[0m                                Traceback (most recent call last)",
      "Cell \u001b[1;32mIn[63], line 9\u001b[0m\n\u001b[0;32m      7\u001b[0m y \u001b[39m=\u001b[39m g(X)\n\u001b[0;32m      8\u001b[0m plt\u001b[39m.\u001b[39mplot(y)\n\u001b[1;32m----> 9\u001b[0m nn\u001b[39m.\u001b[39;49mfit(X, y, \u001b[39mTrue\u001b[39;49;00m)\n\u001b[0;32m     10\u001b[0m \u001b[39m# predicts = nn.predict(X)\u001b[39;00m\n\u001b[0;32m     11\u001b[0m \u001b[39m# plt.plot(predicts)\u001b[39;00m\n",
      "Cell \u001b[1;32mIn[61], line 38\u001b[0m, in \u001b[0;36mNeuralNetwork.fit\u001b[1;34m(self, X, y, error)\u001b[0m\n\u001b[0;32m     36\u001b[0m \u001b[39mdef\u001b[39;00m \u001b[39mfit\u001b[39m(\u001b[39mself\u001b[39m, X, y, error \u001b[39m=\u001b[39m \u001b[39mFalse\u001b[39;00m):\n\u001b[0;32m     37\u001b[0m     \u001b[39mfor\u001b[39;00m (p, t) \u001b[39min\u001b[39;00m \u001b[39mzip\u001b[39m(X, y): \u001b[39m#se recorren las entradas y salidas deseadas, donde p es la entrada y t el target\u001b[39;00m\n\u001b[1;32m---> 38\u001b[0m         a \u001b[39m=\u001b[39m \u001b[39mself\u001b[39;49m\u001b[39m.\u001b[39;49mforwardpass(np\u001b[39m.\u001b[39;49mexpand_dims(p, axis \u001b[39m=\u001b[39;49m \u001b[39m0\u001b[39;49m))\n\u001b[0;32m     39\u001b[0m         e \u001b[39m=\u001b[39m t \u001b[39m-\u001b[39m a\n\u001b[0;32m     40\u001b[0m         \u001b[39mself\u001b[39m\u001b[39m.\u001b[39mbackpropagation(e, X)\n",
      "Cell \u001b[1;32mIn[61], line 10\u001b[0m, in \u001b[0;36mNeuralNetwork.forwardpass\u001b[1;34m(self, p)\u001b[0m\n\u001b[0;32m      8\u001b[0m pa \u001b[39m=\u001b[39m p\n\u001b[0;32m      9\u001b[0m \u001b[39mfor\u001b[39;00m layer \u001b[39min\u001b[39;00m \u001b[39mself\u001b[39m\u001b[39m.\u001b[39mlayers:\n\u001b[1;32m---> 10\u001b[0m     n \u001b[39m=\u001b[39m np\u001b[39m.\u001b[39;49mdot(layer\u001b[39m.\u001b[39;49mw, pa) \u001b[39m+\u001b[39m layer\u001b[39m.\u001b[39mb\n\u001b[0;32m     11\u001b[0m     \u001b[39mprint\u001b[39m(n\u001b[39m.\u001b[39mshape)\n\u001b[0;32m     12\u001b[0m     a \u001b[39m=\u001b[39m layer\u001b[39m.\u001b[39mact_func(n)\n",
      "File \u001b[1;32m<__array_function__ internals>:180\u001b[0m, in \u001b[0;36mdot\u001b[1;34m(*args, **kwargs)\u001b[0m\n",
      "\u001b[1;31mValueError\u001b[0m: shapes (2,1) and (2,1) not aligned: 1 (dim 1) != 2 (dim 0)"
     ]
    },
    {
     "data": {
      "image/png": "[encoded data removed]",
      "text/plain": [
       "<Figure size 640x480 with 1 Axes>"
      ]
     },
     "metadata": {},
     "output_type": "display_data"
    }
   ],
   "source": [
    "nn = NeuralNetwork([\n",
    "    Layer(2, sigmoid, d_sigmoid, np.random.uniform(size=(2, 1)), np.expand_dims(np.repeat(1, 2), axis=0).T),\n",
    "    Layer(1, linear, d_linear, np.random.uniform(size=(2, 1)), np.expand_dims(np.repeat(1, 1), axis=0).T)\n",
    "], 0.1)\n",
    "\n",
    "X = np.expand_dims(np.arange(-2, 2, 0.2), axis = 0).T\n",
    "y = g(X)\n",
    "plt.plot(y)\n",
    "nn.fit(X, y, True)\n",
    "# predicts = nn.predict(X)\n",
    "# plt.plot(predicts)\n",
    "\n"
   ]
  }
 ],
 "metadata": {
  "kernelspec": {
   "display_name": "Python 3",
   "language": "python",
   "name": "python3"
  },
  "language_info": {
   "codemirror_mode": {
    "name": "ipython",
    "version": 3
   },
   "file_extension": ".py",
   "mimetype": "text/x-python",
   "name": "python",
   "nbconvert_exporter": "python",
   "pygments_lexer": "ipython3",
   "version": "3.11.0"
  },
  "orig_nbformat": 4
 },
 "nbformat": 4,
 "nbformat_minor": 2
}
